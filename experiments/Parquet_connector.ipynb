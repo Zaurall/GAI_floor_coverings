{
 "cells": [
  {
   "cell_type": "code",
   "id": "initial_id",
   "metadata": {
    "collapsed": true,
    "ExecuteTime": {
     "end_time": "2025-03-07T09:29:14.074093Z",
     "start_time": "2025-03-07T09:29:14.069312Z"
    }
   },
   "source": [
    "import os\n",
    "import re\n",
    "import time\n",
    "from collections import defaultdict\n",
    "\n",
    "# Path to your folder\n",
    "folder_path = \"../data/laminate_boards/\"\n",
    "\n",
    "boards = defaultdict(list)\n",
    "\n",
    "pattern = re.compile(r\"^(\\d+)_board_\\d+\\.png$\")\n",
    "\n",
    "for filename in os.listdir(folder_path):\n",
    "    match = pattern.match(filename)\n",
    "    if match:\n",
    "        board_type = match.group(1)\n",
    "        boards[board_type].append(filename)\n",
    "\n",
    "result = [files for files in boards.values()]\n",
    "\n",
    "print(sorted(result[0]))"
   ],
   "outputs": [
    {
     "name": "stdout",
     "output_type": "stream",
     "text": [
      "['10_board_16.png', '10_board_2.png', '10_board_20.png', '10_board_21.png', '10_board_22.png', '10_board_23.png', '10_board_4.png', '10_board_5.png', '10_board_6.png', '10_board_7.png']\n"
     ]
    }
   ],
   "execution_count": 23
  },
  {
   "metadata": {
    "ExecuteTime": {
     "end_time": "2025-03-07T09:29:14.384318Z",
     "start_time": "2025-03-07T09:29:14.379102Z"
    }
   },
   "cell_type": "code",
   "source": [
    "import random\n",
    "from PIL import Image\n",
    "\n",
    "folder_path = \"../data/laminate_boards\"\n",
    "\n",
    "def get_image(board_group, folder_path):\n",
    "    filename = os.path.join(folder_path, random.choice(board_group))\n",
    "    with Image.open(filename) as img:\n",
    "        img.load()\n",
    "    return img\n",
    "\n",
    "board_group = random.choice(result)\n",
    "board_group"
   ],
   "id": "66de482563508904",
   "outputs": [
    {
     "data": {
      "text/plain": [
       "['10_board_16.png',\n",
       " '10_board_2.png',\n",
       " '10_board_20.png',\n",
       " '10_board_21.png',\n",
       " '10_board_22.png',\n",
       " '10_board_23.png',\n",
       " '10_board_4.png',\n",
       " '10_board_5.png',\n",
       " '10_board_6.png',\n",
       " '10_board_7.png']"
      ]
     },
     "execution_count": 24,
     "metadata": {},
     "output_type": "execute_result"
    }
   ],
   "execution_count": 24
  },
  {
   "metadata": {
    "ExecuteTime": {
     "end_time": "2025-03-07T09:29:14.813799Z",
     "start_time": "2025-03-07T09:29:14.798554Z"
    }
   },
   "cell_type": "code",
   "source": [
    "img = get_image(board_group, folder_path)\n",
    "\n",
    "board_width, board_height = img.size\n",
    "\n",
    "\n",
    "pattern_width = board_width * 8\n",
    "pattern_height = board_height * 3\n",
    "pattern_image = Image.new('RGBA', (pattern_width, pattern_height))\n",
    "\n",
    "half_height = int(board_height / 2)\n",
    "half_width = int(board_width / 2)\n",
    "\n",
    "print(f\"board_height: {board_height}, board_width: {board_width}\")\n",
    "print(f\"half_height: {half_height}, half_width: {half_width}\")"
   ],
   "id": "9306f89c4daa6de2",
   "outputs": [
    {
     "name": "stdout",
     "output_type": "stream",
     "text": [
      "board_height: 945, board_width: 279\n",
      "half_height: 472, half_width: 139\n"
     ]
    }
   ],
   "execution_count": 25
  },
  {
   "metadata": {
    "ExecuteTime": {
     "end_time": "2025-03-07T09:29:16.528578Z",
     "start_time": "2025-03-07T09:29:15.094525Z"
    }
   },
   "cell_type": "code",
   "source": [
    "import time\n",
    "\n",
    "\n",
    "for col in range(0, pattern_width, board_width):\n",
    "    for row in range(0, pattern_height+1, board_height):\n",
    "        img = get_image(board_group, folder_path)\n",
    "        if (col // board_width) % 2 == 1:\n",
    "            pattern_image.paste(img, (col, row - board_height // 2))\n",
    "        else:\n",
    "            pattern_image.paste(img, (col, row))\n",
    "\n",
    "pattern_image.show()\n",
    "pattern_image.save(\"pattern_image.png\")"
   ],
   "id": "fa12730e48187c1c",
   "outputs": [],
   "execution_count": 26
  },
  {
   "metadata": {},
   "cell_type": "code",
   "outputs": [],
   "execution_count": null,
   "source": "",
   "id": "cb0bcb6527b66810"
  }
 ],
 "metadata": {
  "kernelspec": {
   "display_name": "Python 3",
   "language": "python",
   "name": "python3"
  },
  "language_info": {
   "codemirror_mode": {
    "name": "ipython",
    "version": 2
   },
   "file_extension": ".py",
   "mimetype": "text/x-python",
   "name": "python",
   "nbconvert_exporter": "python",
   "pygments_lexer": "ipython2",
   "version": "2.7.6"
  }
 },
 "nbformat": 4,
 "nbformat_minor": 5
}
