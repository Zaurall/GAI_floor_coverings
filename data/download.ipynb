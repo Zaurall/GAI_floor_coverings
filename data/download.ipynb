{
 "cells": [
  {
   "cell_type": "markdown",
   "metadata": {},
   "source": [
    "# You can access dataset in [G-Drive](https://drive.google.com/drive/u/2/folders/1ZQPvnsD83WCaFw7JWHrhILwrFOtJ1Xrh)"
   ]
  },
  {
   "cell_type": "code",
   "execution_count": 1,
   "metadata": {},
   "outputs": [
    {
     "name": "stdout",
     "output_type": "stream",
     "text": [
      "Requirement already satisfied: gdown in /home/zaurall/Documents/developer/INNO_S25/GAI/project/venv/lib/python3.12/site-packages (5.2.0)\n",
      "Requirement already satisfied: beautifulsoup4 in /home/zaurall/Documents/developer/INNO_S25/GAI/project/venv/lib/python3.12/site-packages (from gdown) (4.13.3)\n",
      "Requirement already satisfied: filelock in /home/zaurall/Documents/developer/INNO_S25/GAI/project/venv/lib/python3.12/site-packages (from gdown) (3.17.0)\n",
      "Requirement already satisfied: requests[socks] in /home/zaurall/Documents/developer/INNO_S25/GAI/project/venv/lib/python3.12/site-packages (from gdown) (2.32.3)\n",
      "Requirement already satisfied: tqdm in /home/zaurall/Documents/developer/INNO_S25/GAI/project/venv/lib/python3.12/site-packages (from gdown) (4.67.1)\n",
      "Requirement already satisfied: soupsieve>1.2 in /home/zaurall/Documents/developer/INNO_S25/GAI/project/venv/lib/python3.12/site-packages (from beautifulsoup4->gdown) (2.6)\n",
      "Requirement already satisfied: typing-extensions>=4.0.0 in /home/zaurall/Documents/developer/INNO_S25/GAI/project/venv/lib/python3.12/site-packages (from beautifulsoup4->gdown) (4.12.2)\n",
      "Requirement already satisfied: charset-normalizer<4,>=2 in /home/zaurall/Documents/developer/INNO_S25/GAI/project/venv/lib/python3.12/site-packages (from requests[socks]->gdown) (3.4.1)\n",
      "Requirement already satisfied: idna<4,>=2.5 in /home/zaurall/Documents/developer/INNO_S25/GAI/project/venv/lib/python3.12/site-packages (from requests[socks]->gdown) (3.10)\n",
      "Requirement already satisfied: urllib3<3,>=1.21.1 in /home/zaurall/Documents/developer/INNO_S25/GAI/project/venv/lib/python3.12/site-packages (from requests[socks]->gdown) (2.3.0)\n",
      "Requirement already satisfied: certifi>=2017.4.17 in /home/zaurall/Documents/developer/INNO_S25/GAI/project/venv/lib/python3.12/site-packages (from requests[socks]->gdown) (2025.1.31)\n",
      "Requirement already satisfied: PySocks!=1.5.7,>=1.5.6 in /home/zaurall/Documents/developer/INNO_S25/GAI/project/venv/lib/python3.12/site-packages (from requests[socks]->gdown) (1.7.1)\n"
     ]
    }
   ],
   "source": [
    "!pip install gdown"
   ]
  },
  {
   "cell_type": "code",
   "execution_count": 3,
   "metadata": {},
   "outputs": [
    {
     "name": "stderr",
     "output_type": "stream",
     "text": [
      "Retrieving folder contents\n"
     ]
    },
    {
     "name": "stdout",
     "output_type": "stream",
     "text": [
      "Processing file 1irJNMJCEDGI6WEHSr68Gaiq9oPkXnbcR photo_2025-02-19_15-02-51.jpg\n"
     ]
    },
    {
     "name": "stderr",
     "output_type": "stream",
     "text": [
      "Retrieving folder contents completed\n",
      "Building directory structure\n",
      "Building directory structure completed\n",
      "Downloading...\n",
      "From: https://drive.google.com/uc?id=1irJNMJCEDGI6WEHSr68Gaiq9oPkXnbcR\n",
      "To: /home/zaurall/Documents/developer/INNO_S25/GAI/project/data/preprocessed/photo_2025-02-19_15-02-51.jpg\n",
      "100%|██████████| 72.1k/72.1k [00:00<00:00, 668kB/s]\n",
      "Download completed\n"
     ]
    },
    {
     "data": {
      "text/plain": [
       "['/home/zaurall/Documents/developer/INNO_S25/GAI/project/data/preprocessed/photo_2025-02-19_15-02-51.jpg']"
      ]
     },
     "execution_count": 3,
     "metadata": {},
     "output_type": "execute_result"
    }
   ],
   "source": [
    "import gdown\n",
    "\n",
    "id = \"1CinE93JASXOtbKSzARAHn7ehDJT-Y0ZX\"\n",
    "gdown.download_folder(id=id)"
   ]
  }
 ],
 "metadata": {
  "kernelspec": {
   "display_name": "venv",
   "language": "python",
   "name": "python3"
  },
  "language_info": {
   "codemirror_mode": {
    "name": "ipython",
    "version": 3
   },
   "file_extension": ".py",
   "mimetype": "text/x-python",
   "name": "python",
   "nbconvert_exporter": "python",
   "pygments_lexer": "ipython3",
   "version": "3.12.8"
  }
 },
 "nbformat": 4,
 "nbformat_minor": 2
}
